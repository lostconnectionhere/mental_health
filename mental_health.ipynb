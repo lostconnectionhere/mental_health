{
 "cells": [
  {
   "cell_type": "markdown",
   "metadata": {},
   "source": [
    "# Mental Health on the World Map\n",
    "\n",
    "### Introduction\n",
    "\n",
    "In this jupyter notebook I will explore the data that was found on Kaggle about Mental Health. The data consists of several factors, such as countries, years, mental and substance use, prevalence of depression and so on. This dataset will mainly be used to learn more skills, such as plotting data on world map and more useful and easy to read and understand visualisations.\n",
    "\n",
    "### Geospatial Data Visualisation\n",
    "Geographic data is a subset of Data Science that deals with location-based data. Geo data is important nowadays, since most businesses and applications revolve around the location element. Visualisations can be important to derive faster insights from location-based datasets.\n",
    "\n",
    "## Table of Contents\n",
    "\n",
    "    1. Load Data\n",
    "    2. Analysis\n",
    "    3. Modeling\n",
    "    4. Evaluate Models\n",
    "\n",
    "### 1. Load Data"
   ]
  },
  {
   "cell_type": "code",
   "execution_count": 1,
   "metadata": {},
   "outputs": [],
   "source": [
    "import numpy as np\n",
    "import pandas as pd\n",
    "import matplotlib.pyplot as plt\n",
    "import seaborn as sns"
   ]
  },
  {
   "cell_type": "code",
   "execution_count": 7,
   "metadata": {},
   "outputs": [],
   "source": [
    "data = pd.read_csv('/Users/Roz/Documents/mental_health_project/data/prevalence-of-depression-males-vs-females.csv')"
   ]
  },
  {
   "cell_type": "markdown",
   "metadata": {},
   "source": [
    "### 2. Analysis"
   ]
  },
  {
   "cell_type": "code",
   "execution_count": 8,
   "metadata": {},
   "outputs": [
    {
     "name": "stdout",
     "output_type": "stream",
     "text": [
      "<class 'pandas.core.frame.DataFrame'>\n",
      "RangeIndex: 56395 entries, 0 to 56394\n",
      "Data columns (total 7 columns):\n",
      " #   Column                                                                             Non-Null Count  Dtype  \n",
      "---  ------                                                                             --------------  -----  \n",
      " 0   Entity                                                                             56395 non-null  object \n",
      " 1   Code                                                                               54079 non-null  object \n",
      " 2   Year                                                                               56395 non-null  int64  \n",
      " 3   Prevalence - Depressive disorders - Sex: Male - Age: Age-standardized (Percent)    6840 non-null   float64\n",
      " 4   Prevalence - Depressive disorders - Sex: Female - Age: Age-standardized (Percent)  6840 non-null   float64\n",
      " 5   Population (historical estimates)                                                  55656 non-null  float64\n",
      " 6   Continent                                                                          285 non-null    object \n",
      "dtypes: float64(3), int64(1), object(3)\n",
      "memory usage: 3.0+ MB\n"
     ]
    }
   ],
   "source": [
    "data.info()"
   ]
  },
  {
   "cell_type": "code",
   "execution_count": 6,
   "metadata": {},
   "outputs": [
    {
     "data": {
      "text/html": [
       "<div>\n",
       "<style scoped>\n",
       "    .dataframe tbody tr th:only-of-type {\n",
       "        vertical-align: middle;\n",
       "    }\n",
       "\n",
       "    .dataframe tbody tr th {\n",
       "        vertical-align: top;\n",
       "    }\n",
       "\n",
       "    .dataframe thead th {\n",
       "        text-align: right;\n",
       "    }\n",
       "</style>\n",
       "<table border=\"1\" class=\"dataframe\">\n",
       "  <thead>\n",
       "    <tr style=\"text-align: right;\">\n",
       "      <th></th>\n",
       "      <th>Country</th>\n",
       "      <th>Code</th>\n",
       "      <th>Year</th>\n",
       "      <th>Prevalence_depr_male</th>\n",
       "      <th>Prevalence_depr_female</th>\n",
       "      <th>Population_estimate</th>\n",
       "      <th>Continent</th>\n",
       "    </tr>\n",
       "  </thead>\n",
       "  <tbody>\n",
       "    <tr>\n",
       "      <th>0</th>\n",
       "      <td>Abkhazia</td>\n",
       "      <td>OWID_ABK</td>\n",
       "      <td>2015</td>\n",
       "      <td>NaN</td>\n",
       "      <td>NaN</td>\n",
       "      <td>NaN</td>\n",
       "      <td>Asia</td>\n",
       "    </tr>\n",
       "    <tr>\n",
       "      <th>1</th>\n",
       "      <td>Afghanistan</td>\n",
       "      <td>AFG</td>\n",
       "      <td>1990</td>\n",
       "      <td>4.291054</td>\n",
       "      <td>5.859656</td>\n",
       "      <td>12412311.0</td>\n",
       "      <td>NaN</td>\n",
       "    </tr>\n",
       "    <tr>\n",
       "      <th>2</th>\n",
       "      <td>Afghanistan</td>\n",
       "      <td>AFG</td>\n",
       "      <td>1991</td>\n",
       "      <td>4.293268</td>\n",
       "      <td>5.853078</td>\n",
       "      <td>13299016.0</td>\n",
       "      <td>NaN</td>\n",
       "    </tr>\n",
       "    <tr>\n",
       "      <th>3</th>\n",
       "      <td>Afghanistan</td>\n",
       "      <td>AFG</td>\n",
       "      <td>1992</td>\n",
       "      <td>4.298265</td>\n",
       "      <td>5.850020</td>\n",
       "      <td>14485543.0</td>\n",
       "      <td>NaN</td>\n",
       "    </tr>\n",
       "    <tr>\n",
       "      <th>4</th>\n",
       "      <td>Afghanistan</td>\n",
       "      <td>AFG</td>\n",
       "      <td>1993</td>\n",
       "      <td>4.303087</td>\n",
       "      <td>5.844987</td>\n",
       "      <td>15816601.0</td>\n",
       "      <td>NaN</td>\n",
       "    </tr>\n",
       "  </tbody>\n",
       "</table>\n",
       "</div>"
      ],
      "text/plain": [
       "       Country      Code  Year  Prevalence_depr_male  Prevalence_depr_female  \\\n",
       "0     Abkhazia  OWID_ABK  2015                   NaN                     NaN   \n",
       "1  Afghanistan       AFG  1990              4.291054                5.859656   \n",
       "2  Afghanistan       AFG  1991              4.293268                5.853078   \n",
       "3  Afghanistan       AFG  1992              4.298265                5.850020   \n",
       "4  Afghanistan       AFG  1993              4.303087                5.844987   \n",
       "\n",
       "   Population_estimate Continent  \n",
       "0                  NaN      Asia  \n",
       "1           12412311.0       NaN  \n",
       "2           13299016.0       NaN  \n",
       "3           14485543.0       NaN  \n",
       "4           15816601.0       NaN  "
      ]
     },
     "execution_count": 6,
     "metadata": {},
     "output_type": "execute_result"
    }
   ],
   "source": [
    "data = data.rename(columns={\"Entity\":\"Country\", \"Prevalence - Depressive disorders - Sex: Male - Age: Age-standardized (Percent)\": \"Prevalence_depr_male\",\n",
    "                        \"Prevalence - Depressive disorders - Sex: Female - Age: Age-standardized (Percent)\" : \"Prevalence_depr_female\", \"Population (historical estimates)\": \"Population_estimate\"})\n",
    "\n",
    "data.head()"
   ]
  },
  {
   "cell_type": "code",
   "execution_count": 9,
   "metadata": {},
   "outputs": [
    {
     "data": {
      "text/plain": [
       "Entity                                                                                   0\n",
       "Code                                                                                  2316\n",
       "Year                                                                                     0\n",
       "Prevalence - Depressive disorders - Sex: Male - Age: Age-standardized (Percent)      49555\n",
       "Prevalence - Depressive disorders - Sex: Female - Age: Age-standardized (Percent)    49555\n",
       "Population (historical estimates)                                                      739\n",
       "Continent                                                                            56110\n",
       "dtype: int64"
      ]
     },
     "execution_count": 9,
     "metadata": {},
     "output_type": "execute_result"
    }
   ],
   "source": [
    "data.isnull().sum()"
   ]
  }
 ],
 "metadata": {
  "kernelspec": {
   "display_name": "Python 3.10.5 ('menth-env.env': venv)",
   "language": "python",
   "name": "python3"
  },
  "language_info": {
   "codemirror_mode": {
    "name": "ipython",
    "version": 3
   },
   "file_extension": ".py",
   "mimetype": "text/x-python",
   "name": "python",
   "nbconvert_exporter": "python",
   "pygments_lexer": "ipython3",
   "version": "3.10.5"
  },
  "orig_nbformat": 4,
  "vscode": {
   "interpreter": {
    "hash": "f483b52f5952e9874d4d9a12fd9891b91b700e58206870499e076a02ccf0190b"
   }
  }
 },
 "nbformat": 4,
 "nbformat_minor": 2
}
