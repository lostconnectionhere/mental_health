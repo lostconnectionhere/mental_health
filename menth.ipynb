{
 "cells": [
  {
   "cell_type": "markdown",
   "metadata": {},
   "source": [
    "# Mental Health matters, always and everywhere\n",
    "\n",
    "## Introduction\n",
    "\n",
    "In this jupyter notebook I will explore the data that was found on Kaggle about Mental Health. The data consists of several factors, such as countries, years, mental and substance use, prevalence of depression and so on. This dataset will mainly be used to learn more skills, such as plotting data on world map and more useful and easy to read and understand visualisations.\n",
    "\n",
    "\n",
    "### Geospatial Data Visualisation\n",
    "Geographic data is a subset of Data Science that deals with location-based data. Geo data is important nowadays, since most businesses and applications revolve around the location element. Visualisations can be important to derive faster insights from location-based datasets."
   ]
  },
  {
   "cell_type": "code",
   "execution_count": null,
   "metadata": {},
   "outputs": [],
   "source": [
    "import numpy as np\n",
    "import pandas as pd\n",
    "import matplotlib.pyplot as plt\n",
    "import seaborn as sns\n",
    "#import folium"
   ]
  },
  {
   "cell_type": "code",
   "execution_count": null,
   "metadata": {},
   "outputs": [],
   "source": [
    "prevalence_depression = pd.read_csv('/Users/Roz/Documents/mental_health_project/data/prevalence-of-depression-males-vs-females.csv')\n",
    "prevalence_depression.info()"
   ]
  },
  {
   "cell_type": "code",
   "execution_count": null,
   "metadata": {},
   "outputs": [],
   "source": [
    "prevalence_depression = prevalence_depression.rename(columns={\"Entity\":\"Country\", \"Prevalence - Depressive disorders - Sex: Male - Age: Age-standardized (Percent)\": \"Prevalence_depr_male\",\n",
    "                        \"Prevalence - Depressive disorders - Sex: Female - Age: Age-standardized (Percent)\" : \"Prevalence_depr_female\", \"Population (historical estimates)\": \"Population_estimate\"})\n",
    "\n",
    "prevalence_depression.head()"
   ]
  },
  {
   "cell_type": "code",
   "execution_count": null,
   "metadata": {},
   "outputs": [],
   "source": [
    "prevalence_depression.isnull().sum()"
   ]
  },
  {
   "cell_type": "code",
   "execution_count": null,
   "metadata": {},
   "outputs": [],
   "source": [
    "prevalence_depression = prevalence_depression.drop(['Continent'], axis = 1) #delete unnecessary columns\n",
    "prevalence_depression.dropna(how='any', inplace=True)"
   ]
  },
  {
   "cell_type": "code",
   "execution_count": null,
   "metadata": {},
   "outputs": [],
   "source": [
    "prevalence_depression.isnull().sum()"
   ]
  },
  {
   "cell_type": "code",
   "execution_count": null,
   "metadata": {},
   "outputs": [],
   "source": [
    "import geopandas as gpd\n",
    "\n",
    "world = gpd.read_file(gpd.datasets.get_path('naturalearth_lowres'))\n",
    "world.head()"
   ]
  },
  {
   "cell_type": "code",
   "execution_count": null,
   "metadata": {},
   "outputs": [],
   "source": [
    "world = world[['geometry','name', 'iso_a3']].copy()\n",
    "world.head()"
   ]
  },
  {
   "cell_type": "code",
   "execution_count": null,
   "metadata": {},
   "outputs": [],
   "source": [
    "world = world.rename(columns={0:\"geometry\", 'name':'Country', 'iso_a3':'Code'})\n",
    "world.info()"
   ]
  },
  {
   "cell_type": "code",
   "execution_count": null,
   "metadata": {},
   "outputs": [],
   "source": [
    "# centroid_list[['x_cor', 'y_cor']] = centroid_list.coordinates.str.split(\"(\", expand = True) ignore\n",
    "\n",
    "mergedDF = pd.merge(prevalence_depression, world, on = \"Code\")\n",
    "\n",
    "mergedDF\n",
    "#mergedDF.isnull().sum() # check whether there are null values"
   ]
  },
  {
   "cell_type": "code",
   "execution_count": null,
   "metadata": {},
   "outputs": [],
   "source": [
    "mergedDF.describe() # The standard deviation is a measure that tells how spread out a group of numbers in a dataset are"
   ]
  },
  {
   "cell_type": "code",
   "execution_count": null,
   "metadata": {},
   "outputs": [],
   "source": [
    "fig, ax = plt.subplots(nrows=1, ncols=2, figsize=(10,4))\n",
    "\n",
    "sns.histplot(mergedDF['Prevalence_depr_male'], ax=ax[0],bins=15, edgecolor=\"yellow\", color=\"green\")\n",
    "sns.boxplot(mergedDF['Prevalence_depr_male'], ax=ax[1], color=\"green\")\n",
    "plt.show\n",
    "\n",
    "# plt.boxplot(mergedDF['Prevalence_depr_male'])\n",
    "# plt.show\n",
    "\n",
    "# prev_depression_afghanistan = mergedDF.loc[mergedDF['Country'] == 'Afghanistan']\n",
    "# prev_depression_afghanistan\n",
    "\n",
    "# plt.hist(prev_depression_afghanistan['Prevalence_depr_male'], edgecolor = 'black')\n",
    "# plt.show"
   ]
  },
  {
   "cell_type": "code",
   "execution_count": null,
   "metadata": {},
   "outputs": [],
   "source": [
    "fig, ax = plt.subplots(nrows=2, ncols=1, figsize=(4,8))\n",
    "\n",
    "sns.histplot(mergedDF['Prevalence_depr_male'], ax=ax[0],bins=15, edgecolor=\"yellow\", color=\"green\")\n",
    "sns.boxplot(mergedDF['Prevalence_depr_male'], ax=ax[1], color=\"green\")\n",
    "plt.show\n"
   ]
  },
  {
   "cell_type": "code",
   "execution_count": null,
   "metadata": {},
   "outputs": [],
   "source": [
    "def prev_categorized (row):\n",
    "    if row['Prevalence_depr_male'] >= 3.676174 :\n",
    "        return 'high'\n",
    "    elif row['Prevalence_depr_male'] >= 2.603879 :\n",
    "        return 'moderate'\n",
    "    else:\n",
    "        return 'low'\n",
    "\n",
    "mergedDF.apply(lambda row: prev_categorized(row), axis=1)"
   ]
  },
  {
   "cell_type": "code",
   "execution_count": null,
   "metadata": {},
   "outputs": [],
   "source": [
    "mergedDF['Prevalence_male'] = mergedDF.apply(lambda row: prev_categorized(row), axis=1)\n",
    "mergedDF"
   ]
  },
  {
   "cell_type": "code",
   "execution_count": null,
   "metadata": {},
   "outputs": [],
   "source": [
    "def prev_categorized (row):\n",
    "    if row['Prevalence_depr_female'] >= 3.676174 :\n",
    "        return 'high'\n",
    "    elif row['Prevalence_depr_female'] >= 2.603879 :\n",
    "        return 'moderate'\n",
    "    else:\n",
    "        return 'low'\n",
    "\n",
    "mergedDF['Prevalence_female'] = mergedDF.apply(lambda row: prev_categorized(row), axis=1)\n",
    "mergedDF"
   ]
  },
  {
   "cell_type": "code",
   "execution_count": null,
   "metadata": {},
   "outputs": [],
   "source": [
    "import geopandas\n",
    "world = geopandas.read_file(geopandas.datasets.get_path(\"naturalearth_lowres\"))\n",
    "# world.head()\n",
    "\n",
    "world.plot(figsize=(12,8))"
   ]
  },
  {
   "cell_type": "code",
   "execution_count": null,
   "metadata": {},
   "outputs": [],
   "source": [
    "gdf = geopandas.GeoDataFrame(mergedDF)\n",
    "\n",
    "gdf.head()"
   ]
  },
  {
   "cell_type": "code",
   "execution_count": null,
   "metadata": {},
   "outputs": [],
   "source": [
    "prev_depression_2010 = mergedDF.loc[mergedDF['Year'] == 2010]\n",
    "prev_depression_2010"
   ]
  },
  {
   "cell_type": "code",
   "execution_count": null,
   "metadata": {},
   "outputs": [],
   "source": [
    "gdf = gpd.GeoDataFrame(prev_depression_2010)\n",
    "gdf.head()\n"
   ]
  },
  {
   "cell_type": "code",
   "execution_count": null,
   "metadata": {},
   "outputs": [],
   "source": [
    "from mpl_toolkits.axes_grid1 import make_axes_locatable\n",
    "\n",
    "fig, ax = plt.subplots(1, 1, figsize=(15, 10))\n",
    "divider = make_axes_locatable(ax)\n",
    "cax = divider.append_axes(\"right\", size=\"5%\", pad=0.1)\n",
    "\n",
    "world.plot(ax=ax, color='white', edgecolor='gray')\n",
    "world_map_2010_male = gdf.plot(column='Prevalence_depr_male', ax=ax, markersize=50, legend=True, cax=cax)\n",
    "world_map_2010_male.set_title(\"World Map with Depression Prevalence of Males, 2010\")\n",
    "plt.show()"
   ]
  },
  {
   "cell_type": "code",
   "execution_count": null,
   "metadata": {},
   "outputs": [],
   "source": [
    "fig, ax = plt.subplots(1, 1, figsize=(15, 10))\n",
    "divider = make_axes_locatable(ax)\n",
    "cax = divider.append_axes(\"right\", size=\"5%\", pad=0.1)\n",
    "\n",
    "world.plot(ax=ax, color='white', edgecolor='gray')\n",
    "world_map_2010_female = gdf.plot(column='Prevalence_depr_female', ax=ax, markersize=50, legend=True, cax=cax)\n",
    "world_map_2010_female.set_title(\"World Map with Depression Prevalence of Females, 2010\")\n",
    "plt.show()"
   ]
  },
  {
   "cell_type": "code",
   "execution_count": null,
   "metadata": {},
   "outputs": [],
   "source": [
    "# prev_depression_2010 = mergedDF.loc[mergedDF['Year'] == 2010]\n",
    "# prev_depression_2010\n",
    "\n",
    "# def prev_per_year(year):\n",
    "#     if year in mergedDF['Year'] == year:\n",
    "#         return mergedDF.loc[mergedDF['Year'] == year]\n",
    "#     else:\n",
    "#         return\n",
    "\n",
    "# mergedDF['Prevalence_female'] = mergedDF.apply(lambda row: prev_categorized(row), axis=1)\n",
    "# mergedDF\n",
    "    "
   ]
  },
  {
   "cell_type": "code",
   "execution_count": null,
   "metadata": {},
   "outputs": [],
   "source": [
    "# grouped = mergedDF.groupby('Year')\n",
    "\n",
    "# for year in grouped:\n",
    "#   print('\\nCREATE TABLE {}('.format(year))\n",
    "  \n",
    "#   print(year[\"column\"])"
   ]
  },
  {
   "cell_type": "code",
   "execution_count": null,
   "metadata": {},
   "outputs": [],
   "source": [
    "# prev_depression_1970 = mergedDF.loc[mergedDF['Year'] == 1970]\n",
    "# prev_depression_1970\n",
    "\n",
    "# gdf = gpd.GeoDataFrame(prev_depression_1970)\n",
    "\n",
    "# fig, ax = plt.subplots(1, 1, figsize=(15, 10))\n",
    "# divider = make_axes_locatable(ax)\n",
    "# cax = divider.append_axes(\"right\", size=\"5%\", pad=0.1)\n",
    "\n",
    "# world.plot(ax=ax, color='white', edgecolor='gray')\n",
    "# world_map_1970_female = gdf.plot(column='Prevalence_depr_female', ax=ax, markersize=50, legend=True, cax=cax)\n",
    "# world_map_1970_female.set_title(\"World Map with Depression Prevalence of Females, 2009\")\n",
    "# plt.show()\n",
    "\n",
    "    "
   ]
  },
  {
   "cell_type": "code",
   "execution_count": null,
   "metadata": {},
   "outputs": [],
   "source": [
    "prev_depression_1990 = mergedDF.loc[mergedDF['Year'] == 1990]\n",
    "# prev_depression_1990\n",
    "\n",
    "gdf1990 = gpd.GeoDataFrame(prev_depression_1990)\n",
    "# gdf1990.head()\n",
    "\n",
    "from mpl_toolkits.axes_grid1 import make_axes_locatable\n",
    "\n",
    "fig, ax = plt.subplots(1, 1, figsize=(15, 10))\n",
    "divider = make_axes_locatable(ax)\n",
    "cax = divider.append_axes(\"right\", size=\"5%\", pad=0.1)\n",
    "\n",
    "world.plot(ax=ax, color='white', edgecolor='gray')\n",
    "world_map_1990_male = gdf1990.plot(column='Prevalence_depr_male', ax=ax, markersize=50, legend=True, cax=cax, cmap='OrRd',     \n",
    "    missing_kwds={\n",
    "        \"color\": \"lightgrey\",\n",
    "        \"edgecolor\": \"red\",\n",
    "        \"hatch\": \"///\",\n",
    "        \"label\": \"Missing values\",\n",
    "    })\n",
    "world_map_1990_male.set_title(\"World Map with Depression Prevalence of Males, 1990\")\n",
    "plt.show()"
   ]
  }
 ],
 "metadata": {
  "kernelspec": {
   "display_name": "Python 3.10.2 ('menth-env.env': venv)",
   "language": "python",
   "name": "python3"
  },
  "language_info": {
   "codemirror_mode": {
    "name": "ipython",
    "version": 3
   },
   "file_extension": ".py",
   "mimetype": "text/x-python",
   "name": "python",
   "nbconvert_exporter": "python",
   "pygments_lexer": "ipython3",
   "version": "3.10.2"
  },
  "vscode": {
   "interpreter": {
    "hash": "f483b52f5952e9874d4d9a12fd9891b91b700e58206870499e076a02ccf0190b"
   }
  }
 },
 "nbformat": 4,
 "nbformat_minor": 2
}
